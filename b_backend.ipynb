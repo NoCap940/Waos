{
 "cells": [
  {
   "cell_type": "code",
   "execution_count": 1,
   "source": [
    "# 1. Cargar la bbdd con langchain\n",
    "\n",
    "from langchain.sql_database import SQLDatabase\n",
    "from langchain.llms import OpenAI\n",
    "from langchain.agents import create_sql_agent\n",
    "from langchain.agents.agent_toolkits import SQLDatabaseToolkit\n",
    "from langchain_experimental.sql import SQLDatabaseChain\n",
    "\n",
    "db = SQLDatabase.from_uri(\"sqlite:///ecommerce.db\")\n",
    "\n",
    "# 2. Importar las APIs\n",
    "import a_env_vars\n",
    "import os\n",
    "os.environ[\"OPENAI_API_KEY\"] = a_env_vars.OPENAI_API_KEY\n",
    "\n",
    "# 3. Crear el LLM\n",
    "from langchain.chat_models import ChatOpenAI\n",
    "llm = ChatOpenAI(temperature=0,model_name='gpt-3.5-turbo')\n",
    "\n",
    "# 4. Crear la cadena\n",
    "from langchain_experimental.sql import SQLDatabaseChain\n",
    "cadena = SQLDatabaseChain(llm=llm, database= db, verbose=False)\n",
    "\n",
    "# 5. Formato personalizado de respuesta\n",
    "formato = \"\"\"\n",
    "Data una pregunta del usuario:\n",
    "1. crea una consulta de sqlite3\n",
    "2. revisa los resultados\n",
    "3. devuelve el dato\n",
    "4. si tienes que hacer alguna aclaración o devolver cualquier texto que sea siempre en español\n",
    "#{question}\n",
    "\"\"\"\n",
    "\n",
    "# 6. Función para hacer la consulta\n",
    "\n",
    "def consulta(input_usuario):\n",
    "    consulta = formato.format(question = input_usuario)\n",
    "    resultado = cadena.run(consulta)\n",
    "    return(resultado)"
   ],
   "outputs": [
    {
     "output_type": "stream",
     "name": "stderr",
     "text": [
      "c:\\Users\\MINEDUCYT\\AppData\\Local\\Programs\\Python\\Python311\\Lib\\site-packages\\langchain_experimental\\sql\\base.py:75: UserWarning: Directly instantiating an SQLDatabaseChain with an llm is deprecated. Please instantiate with llm_chain argument or using the from_llm class method.\n",
      "  warnings.warn(\n"
     ]
    }
   ],
   "metadata": {}
  },
  {
   "cell_type": "code",
   "execution_count": 2,
   "source": [
    "consulta('Cuantos registros tiene la tabla ventas')"
   ],
   "outputs": [
    {
     "output_type": "execute_result",
     "data": {
      "text/plain": [
       "'La tabla ventas tiene 541,909 registros.'"
      ]
     },
     "metadata": {},
     "execution_count": 2
    }
   ],
   "metadata": {}
  },
  {
   "cell_type": "code",
   "execution_count": 3,
   "source": [
    "consulta('Cual es el pais mas repetido de la tabla ventas?')"
   ],
   "outputs": [
    {
     "output_type": "execute_result",
     "data": {
      "text/plain": [
       "'El país más repetido en la tabla ventas es \"United Kingdom\".'"
      ]
     },
     "metadata": {},
     "execution_count": 3
    }
   ],
   "metadata": {}
  },
  {
   "cell_type": "code",
   "execution_count": 4,
   "source": [
    "consulta('Cual es el pais menos repetido de la tabla ventas?')"
   ],
   "outputs": [
    {
     "output_type": "execute_result",
     "data": {
      "text/plain": [
       "'El país menos repetido en la tabla ventas es Arabia Saudita.'"
      ]
     },
     "metadata": {},
     "execution_count": 4
    }
   ],
   "metadata": {}
  },
  {
   "cell_type": "code",
   "execution_count": 5,
   "source": [
    "consulta('Cual es el registro con mas venta total de la tabla ventas?')"
   ],
   "outputs": [
    {
     "output_type": "execute_result",
     "data": {
      "text/plain": [
       "'El registro con la mayor venta total de la tabla ventas es el siguiente:\\n\\nid_factura: 581483\\nid_producto: 23843\\nproducto: PAPER CRAFT , LITTLE BIRDIE\\ncantidad: 80995\\nfecha_factura: 12/9/2011 9:15\\nprecio_unitario: 2.08\\nid_cliente: 16446.0\\npais: United Kingdom\\nventas_totales: 168469.6'"
      ]
     },
     "metadata": {},
     "execution_count": 5
    }
   ],
   "metadata": {}
  }
 ],
 "nbformat": 4,
 "nbformat_minor": 2,
 "metadata": {
  "language_info": {
   "codemirror_mode": {
    "name": "ipython",
    "version": 3
   },
   "file_extension": ".py",
   "mimetype": "text/x-python",
   "name": "python",
   "nbconvert_exporter": "python",
   "pygments_lexer": "ipython3",
   "version": 3
  },
  "orig_nbformat": 4
 }
}